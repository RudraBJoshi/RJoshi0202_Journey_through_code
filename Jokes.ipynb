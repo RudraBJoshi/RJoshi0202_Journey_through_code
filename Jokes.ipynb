{
 "cells": [
  {
   "cell_type": "markdown",
   "id": "1cbb7eb5",
   "metadata": {},
   "source": [
    "### Here is a fun Joke"
   ]
  },
  {
   "cell_type": "code",
   "execution_count": 2,
   "id": "fc79bef0",
   "metadata": {
    "vscode": {
     "languageId": "javascript"
    }
   },
   "outputs": [
    {
     "data": {
      "application/javascript": "console.log(\"Enter any 11-digit prime number to continue.\")\n",
      "text/plain": [
       "<IPython.core.display.Javascript object>"
      ]
     },
     "metadata": {},
     "output_type": "display_data"
    }
   ],
   "source": [
    "%%js\n",
    "console.log(\"Enter any 11-digit prime number to continue.\")\n"
   ]
  }
 ],
 "metadata": {
  "kernelspec": {
   "display_name": "venv",
   "language": "python",
   "name": "python3"
  },
  "language_info": {
   "codemirror_mode": {
    "name": "ipython",
    "version": 3
   },
   "file_extension": ".py",
   "mimetype": "text/x-python",
   "name": "python",
   "nbconvert_exporter": "python",
   "pygments_lexer": "ipython3",
   "version": "3.12.3"
  }
 },
 "nbformat": 4,
 "nbformat_minor": 5
}
