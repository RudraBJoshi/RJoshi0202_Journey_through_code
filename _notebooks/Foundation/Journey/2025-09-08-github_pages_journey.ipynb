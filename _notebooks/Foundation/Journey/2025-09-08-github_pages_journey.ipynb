{
 "cells": [
  {
   "cell_type": "raw",
   "id": "4c8bed94",
   "metadata": {
    "vscode": {
     "languageId": "raw"
    }
   },
   "source": [
    "---\n",
    "layout: default\n",
    "title: Journey though setup\n",
    "toc: True\n",
    "breadcrumb: True\n",
    "description: How to setup tools for Windows\n",
    "categories: ['Onboarding Journey']\n",
    "permalink: /github/pages/journey\n",
    "author: Rudra Joshi\n",
    "---\n"
   ]
  },
  {
   "cell_type": "markdown",
   "id": "a46b990e",
   "metadata": {
    "vscode": {
     "languageId": "plaintext"
    }
   },
   "source": [
    "# Personal Experience: How to setup tools for CSP, full debugging, and personalizing your repos\n",
    "\n",
    "In my time onboarding journey, I have encountered many confusions and issues with this. I want to make it as easy and simple for you to follow! This is for **Windows ONLY!** and we will use tools like **WSL** and **Ubuntu**\n",
    "\n",
    "## Step 1: Install WSL\n",
    "WSL is an important tool as it gives you full functionality to a Ubuntu Subsystem. Here you take advantage of its package managers and terminal. You can do this by going to your powershell and type the following command: \n"
   ]
  },
  {
   "cell_type": "code",
   "execution_count": null,
   "id": "989e6aa9",
   "metadata": {
    "vscode": {
     "languageId": "powershell"
    }
   },
   "outputs": [],
   "source": [
    "wsl --install -d Ubuntu-24.04"
   ]
  },
  {
   "cell_type": "markdown",
   "id": "6e01dc97",
   "metadata": {},
   "source": [
    "You will be prompted to enter a username. After you do this you will be prompted again to put a password. Keep in mind when entering a password, it will not show that you are typing. Don't worry! Just enter your password normally and confirm it. After installing WSL you will receive a WSL Ubuntu prompt. For now we will exit WSL."
   ]
  },
  {
   "cell_type": "code",
   "execution_count": null,
   "id": "afdf02ea",
   "metadata": {
    "vscode": {
     "languageId": "powershell"
    }
   },
   "outputs": [],
   "source": [
    "exit"
   ]
  },
  {
   "cell_type": "markdown",
   "id": "acd51fbd",
   "metadata": {},
   "source": [
    "You will now set Ubuntu 24.04 to default:"
   ]
  },
  {
   "cell_type": "code",
   "execution_count": null,
   "id": "fbf6b1e9",
   "metadata": {
    "vscode": {
     "languageId": "powershell"
    }
   },
   "outputs": [],
   "source": [
    "wsl --set-default Ubuntu-24.04"
   ]
  },
  {
   "cell_type": "markdown",
   "id": "44902f3e",
   "metadata": {},
   "source": [
    "Restart powershell and type the following to launch the Ubuntu Terminal:"
   ]
  },
  {
   "cell_type": "code",
   "execution_count": null,
   "id": "b9e4d6bc",
   "metadata": {
    "vscode": {
     "languageId": "powershell"
    }
   },
   "outputs": [],
   "source": [
    "wsl"
   ]
  },
  {
   "cell_type": "markdown",
   "id": "b1228992",
   "metadata": {},
   "source": [
    "Close powershell and now you are in the WSL subsystem\n",
    "\n",
    "## Step 2: Cloning Repos \n",
    "\n",
    "In CSP you will utilize two repos:\n",
    "1. **The Student Repo**\n",
    "2. **The OCS Fork Repo**\n",
    "\n",
    "\n",
    "\n",
    "### Step 2a: Installing Git\n",
    "To clone repos you will need a tool called git. Navigate to: [git-scm.com](https://git-scm.com/downloads) and install the latest version for Windows. Double click the downloaded EXE and follow the steps and use defualt options. Once installed you are ready to clone repos.\n",
    "\n",
    "### Step 2b: Forking Student Repo\n",
    "First lets get the student repo started.\n",
    "\n",
    "The first step is to make a directory to store your repos.\n",
    "I named it this:"
   ]
  },
  {
   "cell_type": "code",
   "execution_count": null,
   "id": "de8a9849",
   "metadata": {
    "vscode": {
     "languageId": "shellscript"
    }
   },
   "outputs": [],
   "source": [
    "mkdir coding"
   ]
  },
  {
   "cell_type": "markdown",
   "id": "91e9cd04",
   "metadata": {},
   "source": [
    "Now \"coding\" will serve as the directory to store my student repo.\n",
    "**Remember! Replace \"coding\" with the name of your directory!**\n",
    "Next you are going to change your directory into the directtory you just made. Since my directory is \"coding\" I will perform the following:"
   ]
  },
  {
   "cell_type": "code",
   "execution_count": null,
   "id": "2f781e8e",
   "metadata": {
    "vscode": {
     "languageId": "shellscript"
    }
   },
   "outputs": [],
   "source": [
    "cd coding"
   ]
  },
  {
   "cell_type": "markdown",
   "id": "2fa52686",
   "metadata": {},
   "source": [
    "Next, navigate to [github](https://github.com) and log into github. Search up the user **jm1021** and go to his **student** repo. Press the fork button and fork the repo. After forking the repo, click code and copy the HTTPS link and enter the following command into the Ubuntu terminal:"
   ]
  },
  {
   "cell_type": "code",
   "execution_count": null,
   "id": "d0ef4dac",
   "metadata": {
    "vscode": {
     "languageId": "shellscript"
    }
   },
   "outputs": [],
   "source": [
    "git clone \"[PASTE THE LINK YOU COPIED HERE WITHOUT THE QUOTES]\""
   ]
  },
  {
   "cell_type": "markdown",
   "id": "e0122520",
   "metadata": {},
   "source": [
    "This will clone the repo to your VScode and ready to be editted. Then change your directory to the your student repository with the following command:"
   ]
  },
  {
   "cell_type": "code",
   "execution_count": null,
   "id": "c2b6c025",
   "metadata": {
    "vscode": {
     "languageId": "shellscript"
    }
   },
   "outputs": [],
   "source": [
    "cd student"
   ]
  },
  {
   "cell_type": "markdown",
   "id": "594245e4",
   "metadata": {},
   "source": [
    "And now you have your first repository needed!\n",
    "\n",
    "### Step 2c: Cloning Pages (OCS) Repository\n",
    "\n",
    "To change your directory back to the start run the following command until you reach all the way back to \"user:~/name_of_parent_directory$\""
   ]
  },
  {
   "cell_type": "code",
   "execution_count": null,
   "id": "66f2f2e2",
   "metadata": {
    "vscode": {
     "languageId": "shellscript"
    }
   },
   "outputs": [],
   "source": [
    "cd .."
   ]
  },
  {
   "cell_type": "markdown",
   "id": "0e6cd1c7",
   "metadata": {},
   "source": [
    "So for me, I would run that until I get to: user:~/coding$\n",
    "\n",
    "Next you will make a new directory for OCS by typing:"
   ]
  },
  {
   "cell_type": "code",
   "execution_count": null,
   "id": "de1a62fc",
   "metadata": {
    "vscode": {
     "languageId": "shellscript"
    }
   },
   "outputs": [],
   "source": [
    "mkdir opencs\n",
    "cd opencs"
   ]
  },
  {
   "cell_type": "markdown",
   "id": "0f1d78c4",
   "metadata": {},
   "source": [
    "Now that you are in the opencs directory you will need the Open Coding Soceity repository cloned to your terminal. Run the following command to do that:"
   ]
  },
  {
   "cell_type": "code",
   "execution_count": null,
   "id": "4ce21a11",
   "metadata": {
    "vscode": {
     "languageId": "shellscript"
    }
   },
   "outputs": [],
   "source": [
    "git clone https://github.com/Open-Coding-Society/pages.git\n",
    "cd pages"
   ]
  },
  {
   "cell_type": "markdown",
   "id": "2d955871",
   "metadata": {},
   "source": [
    "And now you have both repos! Your personal student repo and the OCS repo!\n",
    "\n",
    "## Step 3 Installing Dependencies\n",
    "Along with these repos, come with dependencies you need to install. Change your directory to your student repo and run the following:"
   ]
  },
  {
   "cell_type": "code",
   "execution_count": null,
   "id": "1e3869f8",
   "metadata": {
    "vscode": {
     "languageId": "shellscript"
    }
   },
   "outputs": [],
   "source": [
    "./scripts/activate_ubuntu.sh"
   ]
  },
  {
   "cell_type": "markdown",
   "id": "2d33ed17",
   "metadata": {},
   "source": [
    "What this script does it updates the **APT** package manager and installs:\n",
    "- python3 \n",
    "- python3-pip \n",
    "- python-is-python3 \n",
    "- python3-venv \n",
    "- ruby-full \n",
    "- build-essential \n",
    "- zlib1g-dev\n",
    "- jupyter-notebook\n",
    "- sqlite3. \\\n",
    "Next it installs all dependencies for flash using **pip** and installs: \n",
    "- Flask \n",
    "- requests\n",
    "- SQLAlchemy\n",
    "- Werkzeug\n",
    "- Flask-Login\n",
    "- Flask-SQLAlchemy\n",
    "- Flask-Migrate\n",
    "- Flask-RESTful\n",
    "- Flask-Cors\n",
    "- PyJWT\n",
    "- pandas\n",
    "- numpy\n",
    "- matplotlib\n",
    "- seaborn\n",
    "- scikit-learn\n",
    "- pymysql\n",
    "- psycopg2-binary\n",
    "- python-dotenv \n",
    "- boto3. \\\n",
    "Next it downlaods the static site generating dependencies nbconvert with again using **pip:** \n",
    "- nbformat\n",
    "- pyyaml\n",
    "- notebook\n",
    "- requests\n",
    "- python-dotenv\n",
    "- pandas\n",
    "- seaborn\n",
    "- scikit-learn\n",
    "- progress\n",
    "- newspaper3k\n",
    "- wikipedia\n",
    "- emoji \n",
    "- lxml_html_clean. \\\n",
    "    Finally it installs some **ruby gems** for jekyll: \n",
    "- bundler\n",
    "- jekyll\n",
    "- benchmark\n",
    "- openssl\n",
    "- zlib\n",
    "- racc\n",
    "- bigdecimal\n",
    "- drb\n",
    "- unicode-display_width\n",
    "- logger\n",
    "- etc \n",
    "- fileutils\n",
    "- ipaddr\n",
    "- mutex_m\n",
    "- ostruct\n",
    "- rss\n",
    "- strscan\n",
    "- stringio\n",
    "- time\n",
    "\n",
    "Next you will run one more script to link make a git account to link to github using this command:"
   ]
  },
  {
   "cell_type": "code",
   "execution_count": null,
   "id": "8a745220",
   "metadata": {
    "vscode": {
     "languageId": "shellscript"
    }
   },
   "outputs": [],
   "source": [
    "./scripts/activate.sh"
   ]
  },
  {
   "cell_type": "markdown",
   "id": "fde53fdd",
   "metadata": {},
   "source": [
    "All it does is prompts for your unsername and email and it sets it up. The final script needed is to istall depndencies for a **virtual environment (venv).** To get these dependencies, run:"
   ]
  },
  {
   "cell_type": "code",
   "execution_count": null,
   "id": "c53c62e3",
   "metadata": {
    "vscode": {
     "languageId": "shellscript"
    }
   },
   "outputs": [],
   "source": [
    "./scripts/venv.sh"
   ]
  },
  {
   "cell_type": "markdown",
   "id": "5aea46af",
   "metadata": {},
   "source": [
    "This installs dependencies for a virtual environment. To enable it, run:"
   ]
  },
  {
   "cell_type": "code",
   "execution_count": null,
   "id": "65ad19d8",
   "metadata": {
    "vscode": {
     "languageId": "shellscript"
    }
   },
   "outputs": [],
   "source": [
    "source venv/bin/activate"
   ]
  },
  {
   "cell_type": "markdown",
   "id": "787f677c",
   "metadata": {},
   "source": [
    "Now repeat step 3 for the pages repo. \n",
    "\n",
    "Once you are finished you can now edit and personalize your student!\n",
    "\n",
    "## Personalizing your websites (example index.md and about.md)\n",
    "\n",
    "It is time to customize your website! Lets start with the about me. Open Ubuntu and navigate to your student directory and run:"
   ]
  },
  {
   "cell_type": "code",
   "execution_count": null,
   "id": "202456a6",
   "metadata": {
    "vscode": {
     "languageId": "shellscript"
    }
   },
   "outputs": [],
   "source": [
    "code ."
   ]
  },
  {
   "cell_type": "markdown",
   "id": "aa0c7bcb",
   "metadata": {},
   "source": [
    "This will open VSCode for that directory. Find **index.md** and open the file up. Index.md is a **markdown** file, so you can type normal english in and the jekyll nbconverter will ocnvert it into a static page. Try changing your name on the page."
   ]
  },
  {
   "cell_type": "markdown",
   "id": "b1af6226",
   "metadata": {},
   "source": [
    "After changing your name, lets learn how to make a button. Here is the template:"
   ]
  },
  {
   "cell_type": "code",
   "execution_count": null,
   "id": "3cc9cd87",
   "metadata": {
    "vscode": {
     "languageId": "html"
    }
   },
   "outputs": [],
   "source": [
    "<a href=\"example.com\" class=\"button small\" style=\"background-color: #cdb79aff\">\n",
    "    <span style=\"color: #000000ff\">This is an example button</span>\n",
    "</a>\n"
   ]
  },
  {
   "cell_type": "markdown",
   "id": "55a42307",
   "metadata": {},
   "source": [
    "The **href** is the link the button will redirect to. You can set the class to **button small, medium, or large.** Don't modify the **style** parameter. Next you can change the **first hex code** to make it a different color. The **second hex code** is for the font color. Finally the **spot between span and the last hex code** is the text on the button.\n",
    "\n",
    "\n",
    "\n",
    "Next lets try editting the about me page. Open the navigation folder and go to 'about.md' and open it. Try changing some things like images on where you live. Here is the code snippet:"
   ]
  },
  {
   "cell_type": "code",
   "execution_count": null,
   "id": "890ae9a3",
   "metadata": {
    "vscode": {
     "languageId": "html"
    }
   },
   "outputs": [],
   "source": [
    "<script>\n",
    "    // 1. Make a connection to the HTML container defined in the HTML div\n",
    "    var container = document.getElementById(\"grid_container\"); // This container connects to the HTML div\n",
    "\n",
    "    // 2. Define a JavaScript object for our http source and our data rows for the Living in the World grid\n",
    "    var http_source = \"https://upload.wikimedia.org/wikipedia/commons/\";\n",
    "    var living_in_the_world = [\n",
    "        {\"flag\": \"0/01/Flag_of_California.svg\", \"greeting\": \"Hey\", \"description\": \"California - forever\"},\n",
    "        {\"flag\": \"b/b9/Flag_of_Oregon.svg\", \"greeting\": \"Hi\", \"description\": \"Oregon - 9 years\"},\n",
    "        {\"flag\": \"b/be/Flag_of_England.svg\", \"greeting\": \"Alright mate\", \"description\": \"England - 2 years\"},\n",
    "        {\"flag\": \"e/ef/Flag_of_Hawaii.svg\", \"greeting\": \"Aloha\", \"description\": \"Hawaii - 2 years\"},\n",
    "    ];\n",
    "\n",
    "    // 3a. Consider how to update style count for size of container\n",
    "    // The grid-template-columns has been defined as dynamic with auto-fill and minmax\n",
    "\n",
    "    // 3b. Build grid items inside of our container for each row of data\n",
    "    for (const location of living_in_the_world) {\n",
    "        // Create a \"div\" with \"class grid-item\" for each row\n",
    "        var gridItem = document.createElement(\"div\");\n",
    "        gridItem.className = \"grid-item\";  // This class name connects the gridItem to the CSS style elements\n",
    "        // Add \"img\" HTML tag for the flag\n",
    "        var img = document.createElement(\"img\");\n",
    "        img.src = http_source + location.flag; // concatenate the source and flag\n",
    "        img.alt = location.flag + \" Flag\"; // add alt text for accessibility\n",
    "\n",
    "        // Add \"p\" HTML tag for the description\n",
    "        var description = document.createElement(\"p\");\n",
    "        description.textContent = location.description; // extract the description\n",
    "\n",
    "        // Add \"p\" HTML tag for the greeting\n",
    "        var greeting = document.createElement(\"p\");\n",
    "        greeting.textContent = location.greeting;  // extract the greeting\n",
    "\n",
    "        // Append img and p HTML tags to the grid item DIV\n",
    "        gridItem.appendChild(img);\n",
    "        gridItem.appendChild(description);\n",
    "        gridItem.appendChild(greeting);\n",
    "\n",
    "        // Append the grid item DIV to the container DIV\n",
    "        container.appendChild(gridItem);\n",
    "    }\n",
    "</script>\n"
   ]
  },
  {
   "cell_type": "markdown",
   "id": "6ce0e852",
   "metadata": {},
   "source": [
    "Next scroll down and edit the 'Journey Through Life' sector and personalize it a bit. Once completed, lets try seeing your changes on a local host. Run the following command:"
   ]
  },
  {
   "cell_type": "code",
   "execution_count": null,
   "id": "d5d9521c",
   "metadata": {
    "vscode": {
     "languageId": "shellscript"
    }
   },
   "outputs": [],
   "source": [
    "make"
   ]
  },
  {
   "cell_type": "markdown",
   "id": "785637fa",
   "metadata": {},
   "source": [
    "It will generate a local server. When loaded, hold control and click the IP address. Now you can see your site before you commit! If you are displeased with your edits, you can always edit the file and rerun the command to apply it. If you are happy with your changes, you can now commit them. Go to Commits and stage the files you want to commit. Next describe your commit briefly like \"editted index.md\" or \"personalized about.md\" and then press commit, then sync changes. If you head over to your student repo on github and click **Actions** you can see it building your website with the new commits.\n",
    "\n",
    "Now lets explore Jekyll Themes and Jupyter Notebooks!\n",
    "\n",
    "\n",
    "## Jekyll Themes and Jupyter Notebooks\n",
    "\n",
    "We will now try to change the theme of OCS (pages). Go to your pages directory. **DO NOT COMMIT ANYTHING HERE! JUST HOST A LOCAL SERVER AND DISCARD COMMITS WHEN FINISHED!** next enable your venv if you have not already with:"
   ]
  },
  {
   "cell_type": "code",
   "execution_count": null,
   "id": "a05da2b1",
   "metadata": {
    "vscode": {
     "languageId": "shellscript"
    }
   },
   "outputs": [],
   "source": [
    "source venv/bin/activate"
   ]
  },
  {
   "cell_type": "markdown",
   "id": "5f56434f",
   "metadata": {},
   "source": [
    "Next you can run"
   ]
  },
  {
   "cell_type": "code",
   "execution_count": null,
   "id": "f1bae1f6",
   "metadata": {
    "vscode": {
     "languageId": "shellscript"
    }
   },
   "outputs": [],
   "source": [
    "make help"
   ]
  },
  {
   "cell_type": "markdown",
   "id": "18265fcb",
   "metadata": {},
   "source": [
    "to see all the commands accociated with make. Lets try using **Yet Another Theme (YAT)**. You will run:"
   ]
  },
  {
   "cell_type": "code",
   "execution_count": null,
   "id": "7e6c41e5",
   "metadata": {
    "vscode": {
     "languageId": "shellscript"
    }
   },
   "outputs": [],
   "source": [
    "make serve-yat"
   ]
  },
  {
   "cell_type": "markdown",
   "id": "280fa9d8",
   "metadata": {},
   "source": [
    "This will now apply the **Yet Another Theme** to the website. Lets try another theme:"
   ]
  },
  {
   "cell_type": "code",
   "execution_count": null,
   "id": "776b8e2b",
   "metadata": {
    "vscode": {
     "languageId": "shellscript"
    }
   },
   "outputs": [],
   "source": [
    "make serve-cayman"
   ]
  },
  {
   "cell_type": "markdown",
   "id": "6e762ddc",
   "metadata": {},
   "source": [
    "This one will apply the **cayman** theme to the website. The next thing I learnt was to apply a theme to your site but this is not expcted right now so we will skip it :). Lets start making a Jupyter Notebook, and hosting it on our blogs page!\n",
    "\n",
    "First we have to get the template Jupyter Notebook. Return to your parent directory that contains both opencs and student and run the following:"
   ]
  },
  {
   "cell_type": "code",
   "execution_count": null,
   "id": "56bc7c57",
   "metadata": {
    "vscode": {
     "languageId": "shellscript"
    }
   },
   "outputs": [],
   "source": [
    "code opencs/pages student"
   ]
  },
  {
   "cell_type": "markdown",
   "id": "07ff019b",
   "metadata": {},
   "source": [
    "This opens both repos into a workspace. Next go to pages and run:"
   ]
  },
  {
   "cell_type": "code",
   "execution_count": null,
   "id": "4f1109bc",
   "metadata": {
    "vscode": {
     "languageId": "shellscript"
    }
   },
   "outputs": [],
   "source": [
    "git pull"
   ]
  },
  {
   "cell_type": "markdown",
   "id": "4cc3152a",
   "metadata": {},
   "source": [
    "This will make sure pages is up to date. Find the directory \"**C-github_pages**\" which is in the _notebooks/Foundation directory. Drag it from the OCS foundation directory to your foundation directory. Save changes and commit the file transfer. Now on your student page you can go to blogs and open the Jokes! Lets try running a joke in the JavaScript console. On the menu bar on top of VScode go to **Help** --> **Toggle Developer** Tools and open it. Clear the console and go to your jokes Jupyter Notebook and go next to one of the HTML or JavaScript cells and press the traingle to the side or execute it and open the console and you should see it print a random joke.\n",
    "\n",
    "\n",
    "\n",
    "\n",
    "## Scrolling Background Mini-lesson\n",
    "\n",
    "The final thing I have learned in this onboarding challenge is a scrolling background.\n",
    "\n",
    "First lets get the assets. Run the following commands in your terminal in your student directory to get the assets:\n",
    "\n",
    "\n"
   ]
  },
  {
   "cell_type": "code",
   "execution_count": null,
   "id": "7e8e2393",
   "metadata": {
    "vscode": {
     "languageId": "shellscript"
    }
   },
   "outputs": [],
   "source": [
    "\n",
    "mkdir -p hacks\n",
    "wget https://raw.githubusercontent.com/Open-Coding-Society/pages/refs/heads/main/hacks/background.md -O hacks/background.md\n",
    "\n",
    "\n",
    "mkdir -p images/platformer/sprites\n",
    "wget https://raw.githubusercontent.com/Open-Coding-Society/pages/refs/heads/main/images/platformer/sprites/flying-ufo.png -O images/platformer/sprites/flying-ufo.png\n",
    "\n",
    "\n",
    "mkdir -p images/platformer/backgrounds \n",
    "wget https://raw.githubusercontent.com/Open-Coding-Society/pages/refs/heads/main/images/platformer/backgrounds/alien_planet1.jpg -O images/platformer/backgrounds/alien_planet1.jpg"
   ]
  },
  {
   "cell_type": "markdown",
   "id": "6d891d9f",
   "metadata": {},
   "source": [
    "This will get you the code, the UFO sprite, and the alien planet background. Next go to the \"**hacks**\" directory and open **background.md**. Lets run make and see the background scolling effect. Check: https://yourgithubsite.github.io/background and replace yourgithubsite with your actual site. Lets modify this to use custom sprites and backgrounds. \n",
    "\n",
    "Download a background and sprite. Then go to github to your repository and go to **images** --> **platformer** --> **sprites** and upload your sprite and then go out of sprites and go to **background** and upload your background. Go back to your VScode and run:"
   ]
  },
  {
   "cell_type": "code",
   "execution_count": null,
   "id": "23c5f9ee",
   "metadata": {
    "vscode": {
     "languageId": "shellscript"
    }
   },
   "outputs": [],
   "source": [
    "git pull"
   ]
  },
  {
   "cell_type": "markdown",
   "id": "f9662d6b",
   "metadata": {},
   "source": [
    "This will pull your assets from github into your VScode. Next lets look at the front matter of **background.md**."
   ]
  },
  {
   "cell_type": "code",
   "execution_count": null,
   "id": "349eee17",
   "metadata": {
    "vscode": {
     "languageId": "latex"
    }
   },
   "outputs": [],
   "source": [
    "layout: default\n",
    "title: Background with Object\n",
    "description: Use JavaScript to have an in motion background.\n",
    "sprite: images/platformer/sprites/flying-ufo.png\n",
    "background: images/platformer/backgrounds/alien_planet1.jpg\n",
    "permalink: /background"
   ]
  },
  {
   "cell_type": "markdown",
   "id": "18f3b78f",
   "metadata": {},
   "source": [
    "Go to your sprite in images/platformer/sprites and copy its file path and replace the sprite's original file path with the one you copied and do the same for background from the images/platformer/background. Run make to test your background and commit when ready.\n",
    "\n",
    "\n",
    "\n",
    "And now you finished the onboarding challenge! You learnt how to use make, make markdown files, move files from one repo to the other, performing a hack to the background animation, applying themes, using Jupyter Notebooks, and many other skills!"
   ]
  }
 ],
 "metadata": {
  "language_info": {
   "name": "python"
  }
 },
 "nbformat": 4,
 "nbformat_minor": 5
}
