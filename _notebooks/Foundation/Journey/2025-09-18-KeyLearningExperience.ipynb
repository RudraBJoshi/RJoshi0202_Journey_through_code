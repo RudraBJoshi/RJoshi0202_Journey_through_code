{
 "cells": [
  {
   "cell_type": "markdown",
   "id": "382f8187",
   "metadata": {},
   "source": [
    "---\n",
    "title: Key Learning Experience\n",
    "description: How I developed a basic Representation on APIs\n",
    "comments: false\n",
    "layout: default\n",
    "permalink: /github/pages/KLE\n",
    "---"
   ]
  },
  {
   "cell_type": "markdown",
   "id": "fb4b8645",
   "metadata": {},
   "source": [
    "# My Approach on APIs\n",
    "\n",
    "\n",
    "I started by thinking about how to practice working with APIs in Python, so I decided to use the free JSONPlaceholder API since it provides dummy data that’s perfect for testing. My goal was to fetch information about a user and display some key details.\n",
    "\n",
    "\n",
    "- Choosing the Library: I picked the ```requests``` library because it’s the most straightforward way to make HTTP requests in Python. I imported it at the top of the script.\n",
    "\n",
    "- Defining the API Endpoint: I looked at the JSONPlaceholder documentation and found that ```https://jsonplaceholder.typicode.com/users/1``` would return details about a single user with ID 1. I stored this URL in a variable called url so the code would be clear and easy to modify later if I wanted to fetch a different user.\n",
    "\n",
    "- Making the Request: I used ```requests.get(url)``` to send a GET request to the API. To capture the response, I stored it in the variable response.\n",
    "\n",
    "- Parsing the Response:\n",
    "Since the response comes in JSON format, I converted it into a Python dictionary using ```.json()```. I assigned that to the variable data, so I could access individual fields easily.\n",
    "\n",
    "- Accessing the Data:\n",
    "Once I had the data, I picked out some interesting fields: the user’s name, email, and their company name. These are nested values in the JSON, so for example, ```data[\"company\"][\"name\"] ``` retrieves the company name from inside the company object.\n",
    "\n",
    "- Displaying the Results:\n",
    "Finally, I used ```print()``` statements to display the information in a readable format."
   ]
  },
  {
   "cell_type": "code",
   "execution_count": null,
   "id": "e5d02312",
   "metadata": {},
   "outputs": [],
   "source": [
    "import requests\n",
    "url = \"https://jsonplaceholder.typicode.com/users/1\"\n",
    "response = requests.get(url)\n",
    "data = response.json()\n",
    "print(\"Name:\", data[\"name\"])\n",
    "print(\"Email:\", data[\"email\"])\n",
    "print(\"Company:\", data[\"company\"][\"name\"])\n"
   ]
  }
 ],
 "metadata": {
  "language_info": {
   "name": "python"
  }
 },
 "nbformat": 4,
 "nbformat_minor": 5
}
